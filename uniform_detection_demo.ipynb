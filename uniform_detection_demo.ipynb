{
 "cells": [
  {
   "cell_type": "code",
   "execution_count": 1,
   "id": "f9a6d7bb",
   "metadata": {},
   "outputs": [],
   "source": [
    "import os\n",
    "import cv2\n",
    "import numpy as np\n",
    "import torch\n",
    "from torch.utils.data import Dataset, DataLoader, random_split\n",
    "import torch.nn as nn\n",
    "import torch.nn.functional as F\n",
    "import torchvision\n",
    "import torch.optim as optim\n",
    "from torchvision.models.vgg import vgg16, VGG"
   ]
  },
  {
   "cell_type": "code",
   "execution_count": 2,
   "id": "64a9ddc6",
   "metadata": {},
   "outputs": [
    {
     "data": {
      "text/plain": [
       "device(type='cuda')"
      ]
     },
     "execution_count": 2,
     "metadata": {},
     "output_type": "execute_result"
    }
   ],
   "source": [
    "dtype = torch.float32\n",
    "USE_GPU = True\n",
    "device = torch.device('cpu')\n",
    "if USE_GPU and torch.cuda.is_available():\n",
    "    device = torch.device('cuda')\n",
    "device"
   ]
  },
  {
   "cell_type": "code",
   "execution_count": 3,
   "id": "cbbeebb2",
   "metadata": {},
   "outputs": [],
   "source": [
    "class UniformDataset(Dataset):\n",
    "    def __init__(self, img_dir = 'dataset_scaled'):\n",
    "        self.img_dir = img_dir\n",
    "        class_dirs = os.listdir(self.img_dir)\n",
    "        self.data = []\n",
    "        for class_name in class_dirs:\n",
    "            for img_name in os.listdir(os.path.join(self.img_dir, class_name)):\n",
    "                self.data.append([os.path.join(self.img_dir, class_name, img_name),\n",
    "                                  class_name])\n",
    "        self.class_map = {'nouniform': 0, 'uniform': 1}\n",
    "    \n",
    "    def __len__(self):\n",
    "        return len(self.data)\n",
    "    \n",
    "    def __getitem__(self, idx):\n",
    "        img_path, class_name = self.data[idx]\n",
    "        img = cv2.imread(img_path)\n",
    "        img = torch.from_numpy(img)\n",
    "        # (канал, х, у)\n",
    "        img = img.permute(2, 0, 1)\n",
    "        class_id = self.class_map[class_name]\n",
    "        return img, torch.tensor(class_id)"
   ]
  },
  {
   "cell_type": "code",
   "execution_count": 6,
   "id": "6233acb7",
   "metadata": {},
   "outputs": [
    {
     "name": "stdout",
     "output_type": "stream",
     "text": [
      "6618 1654\n"
     ]
    }
   ],
   "source": [
    "full_dataset = UniformDataset(r'..\\uniform_detection\\dataset_scaled')\n",
    "\n",
    "n = len(full_dataset)\n",
    "\n",
    "test_n = int(0.2*n)\n",
    "train_n = n - test_n\n",
    "train_dataset, test_dataset = random_split(full_dataset, (train_n, test_n))\n",
    "train_dataloader = DataLoader(train_dataset, batch_size = 15)\n",
    "test_dataloader = DataLoader(test_dataset, batch_size = 15)\n",
    "print(len(train_dataset), len(test_dataset))"
   ]
  },
  {
   "cell_type": "code",
   "execution_count": 10,
   "id": "e4e33f01",
   "metadata": {},
   "outputs": [
    {
     "data": {
      "text/plain": [
       "torchvision.models.vgg.VGG"
      ]
     },
     "execution_count": 10,
     "metadata": {},
     "output_type": "execute_result"
    }
   ],
   "source": [
    "classifier = torchvision.models.vgg16(pretrained=True)\n",
    "\n",
    "for param in classifier.features.parameters():\n",
    "    param.requires_grad = False\n",
    "    \n",
    "n_inputs = classifier.classifier[6].in_features\n",
    "classifier.classifier[6] = nn.Linear(n_inputs, 2)\n",
    "classifier.classifier[6].out_features\n",
    "classifier = classifier.to(device)\n",
    "\n",
    "criterion = nn.CrossEntropyLoss()\n",
    "optimizer = optim.SGD(classifier.parameters(), lr=0.001)\n",
    "epoches = 5\n",
    "hyper_params = (optimizer, criterion, epoches)\n",
    "type(classifier)"
   ]
  },
  {
   "cell_type": "code",
   "execution_count": 4,
   "id": "6344af72",
   "metadata": {},
   "outputs": [],
   "source": [
    "def check_accuracy(loader, model): \n",
    "    num_correct = 0\n",
    "    num_samples = 0\n",
    "    model.eval()\n",
    "    with torch.no_grad():\n",
    "        for x, y in loader:\n",
    "            x = x.to(device=device, dtype=dtype)\n",
    "            y = y.to(device=device, dtype=torch.long)\n",
    "            scores = F.softmax(model(x))\n",
    "            _, preds = scores.max(1)\n",
    "            num_correct += (preds == y).sum()\n",
    "            num_samples += preds.size(0)\n",
    "    accuracy = float(num_correct) / num_samples\n",
    "    return accuracy"
   ]
  },
  {
   "cell_type": "code",
   "execution_count": 5,
   "id": "0cef13c8",
   "metadata": {},
   "outputs": [],
   "source": [
    "def train_model(model: nn.Module,\n",
    "                train_loader: DataLoader,\n",
    "                test_loader: DataLoader,\n",
    "                device: torch.device,\n",
    "                hyper_params: (optim.Optimizer,\n",
    "                               nn.BCELoss or nn.CrossEntropyLoss,\n",
    "                               int)):\n",
    "    optimizer, criterion, epoches = hyper_params\n",
    "    losses = []\n",
    "    accuracies = {'train' : [], 'test': []}\n",
    "    for e in range(epoches):\n",
    "        total_loss = 0\n",
    "        model.train()\n",
    "        for batch, (x, y) in enumerate(train_loader):\n",
    "            model.train()\n",
    "            x, y = x.to(device= device, dtype= dtype), y.to(device= device)\n",
    "            optimizer.zero_grad()\n",
    "            predictions = model(x)\n",
    "\n",
    "            loss = criterion(predictions, y)\n",
    "            total_loss += loss.item()\n",
    "            # backprop\n",
    "            optimizer.zero_grad()\n",
    "            loss.backward()\n",
    "            optimizer.step()\n",
    "        \n",
    "        losses.append(total_loss)\n",
    "        print(e)\n",
    "        print(losses[-1])\n",
    "        accuracies['train'].append(check_accuracy(train_loader, model))\n",
    "        accuracies['test'].append(check_accuracy(test_loader, model))\n",
    "        print(accuracies['train'][-1])\n",
    "        print(accuracies['test'][-1])\n",
    "    return losses, accuracies"
   ]
  },
  {
   "cell_type": "code",
   "execution_count": 13,
   "id": "19f258c6",
   "metadata": {},
   "outputs": [
    {
     "name": "stdout",
     "output_type": "stream",
     "text": [
      "0\n",
      "371.7824784964323\n"
     ]
    },
    {
     "name": "stderr",
     "output_type": "stream",
     "text": [
      "C:\\Users\\alexg\\AppData\\Local\\Temp/ipykernel_12380/2415958310.py:9: UserWarning: Implicit dimension choice for softmax has been deprecated. Change the call to include dim=X as an argument.\n",
      "  scores = F.softmax(model(x))\n"
     ]
    },
    {
     "name": "stdout",
     "output_type": "stream",
     "text": [
      "0.8918102145663342\n",
      "0.8839177750906893\n",
      "1\n",
      "159.26169309020042\n",
      "0.9108491991538229\n",
      "0.8972188633615478\n",
      "2\n",
      "130.6026605181396\n",
      "0.9181021456633424\n",
      "0.8978234582829504\n",
      "3\n",
      "114.70191253721714\n",
      "0.9374433363553943\n",
      "0.9268440145102781\n",
      "4\n",
      "98.39769917377271\n",
      "0.9395587790873375\n",
      "0.9207980652962515\n"
     ]
    }
   ],
   "source": [
    "losses, accuracies = train_model(classifier, train_dataloader, test_dataloader, device, hyper_params)"
   ]
  },
  {
   "cell_type": "code",
   "execution_count": 16,
   "id": "e873128b",
   "metadata": {},
   "outputs": [
    {
     "data": {
      "image/png": "[encoded data removed]",
      "text/plain": [
       "<Figure size 432x288 with 1 Axes>"
      ]
     },
     "metadata": {
      "needs_background": "light"
     },
     "output_type": "display_data"
    }
   ],
   "source": [
    "import matplotlib.pyplot as plt\n",
    "\n",
    "plt.plot(range(epoches), accuracies['train'],'b', label= 'train')\n",
    "plt.plot(range(epoches), accuracies['test'],'g', label= 'test')\n",
    "plt.legend()\n",
    "plt.title('Transfer learning VGG accuracy')\n",
    "plt.show()"
   ]
  },
  {
   "cell_type": "code",
   "execution_count": 17,
   "id": "a39071e9",
   "metadata": {},
   "outputs": [
    {
     "data": {
      "image/png": "[encoded data removed]",
      "text/plain": [
       "<Figure size 432x288 with 1 Axes>"
      ]
     },
     "metadata": {
      "needs_background": "light"
     },
     "output_type": "display_data"
    }
   ],
   "source": [
    "plt.plot(range(epoches), losses)\n",
    "plt.title('train loss')\n",
    "plt.show()"
   ]
  },
  {
   "cell_type": "markdown",
   "id": "1d703ac2",
   "metadata": {},
   "source": [
    "# Сохранение модели"
   ]
  },
  {
   "cell_type": "code",
   "execution_count": 19,
   "id": "c6dab095",
   "metadata": {},
   "outputs": [],
   "source": [
    "PATH = 'model.pth'\n",
    "torch.save(classifier.state_dict(), PATH)"
   ]
  },
  {
   "cell_type": "markdown",
   "id": "e571d431",
   "metadata": {},
   "source": [
    "# Объединение с детектором"
   ]
  },
  {
   "cell_type": "code",
   "execution_count": 6,
   "id": "208baa70",
   "metadata": {},
   "outputs": [
    {
     "name": "stderr",
     "output_type": "stream",
     "text": [
      "Using cache found in C:\\Users\\alexg/.cache\\torch\\hub\\ultralytics_yolov5_master\n",
      "YOLOv5  2021-10-14 torch 1.10.0+cu113 CUDA:0 (NVIDIA GeForce RTX 2060, 6143.6875MB)\n",
      "\n",
      "Fusing layers... \n",
      "C:\\all_files\\uniform_detection\\uniform_venv\\lib\\site-packages\\torch\\functional.py:445: UserWarning: torch.meshgrid: in an upcoming release, it will be required to pass the indexing argument. (Triggered internally at  ..\\aten\\src\\ATen\\native\\TensorShape.cpp:2157.)\n",
      "  return _VF.meshgrid(tensors, **kwargs)  # type: ignore[attr-defined]\n",
      "Model Summary: 213 layers, 7225885 parameters, 0 gradients\n",
      "Adding AutoShape... \n"
     ]
    },
    {
     "data": {
      "text/plain": [
       "VGG(\n",
       "  (features): Sequential(\n",
       "    (0): Conv2d(3, 64, kernel_size=(3, 3), stride=(1, 1), padding=(1, 1))\n",
       "    (1): ReLU(inplace=True)\n",
       "    (2): Conv2d(64, 64, kernel_size=(3, 3), stride=(1, 1), padding=(1, 1))\n",
       "    (3): ReLU(inplace=True)\n",
       "    (4): MaxPool2d(kernel_size=2, stride=2, padding=0, dilation=1, ceil_mode=False)\n",
       "    (5): Conv2d(64, 128, kernel_size=(3, 3), stride=(1, 1), padding=(1, 1))\n",
       "    (6): ReLU(inplace=True)\n",
       "    (7): Conv2d(128, 128, kernel_size=(3, 3), stride=(1, 1), padding=(1, 1))\n",
       "    (8): ReLU(inplace=True)\n",
       "    (9): MaxPool2d(kernel_size=2, stride=2, padding=0, dilation=1, ceil_mode=False)\n",
       "    (10): Conv2d(128, 256, kernel_size=(3, 3), stride=(1, 1), padding=(1, 1))\n",
       "    (11): ReLU(inplace=True)\n",
       "    (12): Conv2d(256, 256, kernel_size=(3, 3), stride=(1, 1), padding=(1, 1))\n",
       "    (13): ReLU(inplace=True)\n",
       "    (14): Conv2d(256, 256, kernel_size=(3, 3), stride=(1, 1), padding=(1, 1))\n",
       "    (15): ReLU(inplace=True)\n",
       "    (16): MaxPool2d(kernel_size=2, stride=2, padding=0, dilation=1, ceil_mode=False)\n",
       "    (17): Conv2d(256, 512, kernel_size=(3, 3), stride=(1, 1), padding=(1, 1))\n",
       "    (18): ReLU(inplace=True)\n",
       "    (19): Conv2d(512, 512, kernel_size=(3, 3), stride=(1, 1), padding=(1, 1))\n",
       "    (20): ReLU(inplace=True)\n",
       "    (21): Conv2d(512, 512, kernel_size=(3, 3), stride=(1, 1), padding=(1, 1))\n",
       "    (22): ReLU(inplace=True)\n",
       "    (23): MaxPool2d(kernel_size=2, stride=2, padding=0, dilation=1, ceil_mode=False)\n",
       "    (24): Conv2d(512, 512, kernel_size=(3, 3), stride=(1, 1), padding=(1, 1))\n",
       "    (25): ReLU(inplace=True)\n",
       "    (26): Conv2d(512, 512, kernel_size=(3, 3), stride=(1, 1), padding=(1, 1))\n",
       "    (27): ReLU(inplace=True)\n",
       "    (28): Conv2d(512, 512, kernel_size=(3, 3), stride=(1, 1), padding=(1, 1))\n",
       "    (29): ReLU(inplace=True)\n",
       "    (30): MaxPool2d(kernel_size=2, stride=2, padding=0, dilation=1, ceil_mode=False)\n",
       "  )\n",
       "  (avgpool): AdaptiveAvgPool2d(output_size=(7, 7))\n",
       "  (classifier): Sequential(\n",
       "    (0): Linear(in_features=25088, out_features=4096, bias=True)\n",
       "    (1): ReLU(inplace=True)\n",
       "    (2): Dropout(p=0.5, inplace=False)\n",
       "    (3): Linear(in_features=4096, out_features=4096, bias=True)\n",
       "    (4): ReLU(inplace=True)\n",
       "    (5): Dropout(p=0.5, inplace=False)\n",
       "    (6): Linear(in_features=4096, out_features=2, bias=True)\n",
       "  )\n",
       ")"
      ]
     },
     "execution_count": 6,
     "metadata": {},
     "output_type": "execute_result"
    }
   ],
   "source": [
    "detector = torch.hub.load('ultralytics/yolov5', 'yolov5s').to(device)\n",
    "\n",
    "PATH = 'model.pth'\n",
    "classifier = vgg16()\n",
    "classifier.classifier[6] = torch.nn.Linear(4096, 2)\n",
    "classifier.load_state_dict(torch.load(PATH))\n",
    "classifier = classifier.to(device)\n",
    "classifier\n",
    "classifier.eval()"
   ]
  },
  {
   "cell_type": "code",
   "execution_count": 7,
   "id": "d5a8415a",
   "metadata": {},
   "outputs": [],
   "source": [
    "def detect_humen(frame, model):\n",
    "    results = model(frame).pandas().xyxy[0]\n",
    "    human_frames = results[results['name'] == 'person'][['xmin', 'ymin', 'xmax', 'ymax']].to_dict()\n",
    "    return human_frames\n",
    "\n",
    "def crop_img(img, xmin, xmax, ymin, ymax):\n",
    "    frame = img[ymin: ymax, xmin: xmax]\n",
    "    return frame"
   ]
  },
  {
   "cell_type": "code",
   "execution_count": 20,
   "id": "1618e789",
   "metadata": {},
   "outputs": [],
   "source": [
    "def image_transforms(base_image: np.array):\n",
    "    size = (72, 163)\n",
    "    img = cv2.resize(base_image, size, interpolation= cv2.INTER_AREA)\n",
    "    img = torch.from_numpy(img)\n",
    "    img = img.permute(2, 0, 1)\n",
    "    img = torch.unsqueeze(img, 0)\n",
    "    return img\n",
    "\n",
    "def predict_uniform(classifier: VGG, img: np.array, device):\n",
    "    transformed_img = image_transforms(img).to(device= device, dtype= torch.float32)\n",
    "    return classifier(transformed_img)\n",
    "\n",
    "def draw_rectangle(frame, start_point, end_point, class_label, thickness = 2):\n",
    "    color = (0, 255, 0) if class_label else (0, 0, 255)\n",
    "    result = cv2.rectangle(frame, start_point, end_point, color, thickness)\n",
    "    return result  \n",
    "\n",
    "def test_detector(detector, classifier, device, video_path: str = 'v2.avi', result_path = 'result.mp4'):\n",
    "    video = cv2.VideoCapture(video_path)\n",
    "    frame_width, frame_height = int(video.get(3)), int(video.get(4))\n",
    "    video_writer = cv2.VideoWriter(result_path, cv2.VideoWriter_fourcc('M','J','P','G'),\n",
    "                                   100, (frame_width, frame_height)) # чет придумать для сокращения занимаемой памяти\n",
    "    frame_count = -1\n",
    "    while True:\n",
    "        success, frame = video.read()\n",
    "        if not success:\n",
    "            break\n",
    "        frame_count += 1\n",
    "        #зона детекции\n",
    "        res = detect_humen(frame, detector)\n",
    "        \n",
    "        person_labels = {}\n",
    "        xmin, ymin, xmax, ymax = res['xmin'], res['ymin'], res['xmax'], res['ymax']\n",
    "        person_keys = res['xmin'].keys()\n",
    "        #зона классификации\n",
    "        for key in person_keys:\n",
    "            cropped_frame = crop_img(frame,\n",
    "                                     int(xmin[key]), int(xmax[key]),\n",
    "                                     int(ymin[key]), int(ymax[key]))\n",
    "            scores = F.softmax(predict_uniform(classifier, cropped_frame, device), dim= 1) # если че, убрать дим, но он деприкейтед\n",
    "            class_label = scores.max(1)[1].item()\n",
    "            \n",
    "            #отрисовка прямоугольников\n",
    "            start_point = (int(xmin[key]), int(ymin[key]))\n",
    "            end_point = (int(xmax[key]), int(ymax[key]))\n",
    "            frame = draw_rectangle(frame, start_point, end_point, class_label)\n",
    "        \n",
    "        #сохранение видео\n",
    "        video_writer.write(frame)\n",
    "    video_writer.release()"
   ]
  },
  {
   "cell_type": "code",
   "execution_count": 21,
   "id": "4b2ef482",
   "metadata": {},
   "outputs": [
    {
     "data": {
      "text/plain": [
       "614.0477180480957"
      ]
     },
     "execution_count": 21,
     "metadata": {},
     "output_type": "execute_result"
    }
   ],
   "source": [
    "start_time = time.time()\n",
    "test_detector(detector, classifier, device, video_path='uniform.mp4', result_path='uniform_result.mp4')\n",
    "end_time = time.time()\n",
    "end_time - start_time"
   ]
  },
  {
   "cell_type": "code",
   "execution_count": 22,
   "id": "7ee0a8ed",
   "metadata": {},
   "outputs": [
    {
     "data": {
      "text/plain": [
       "240.97791075706482"
      ]
     },
     "execution_count": 22,
     "metadata": {},
     "output_type": "execute_result"
    }
   ],
   "source": [
    "start_time = time.time()\n",
    "test_detector(detector, classifier, device, video_path='nouniform.mp4', result_path='nouniform_result.mp4')\n",
    "end_time = time.time()\n",
    "end_time - start_time"
   ]
  },
  {
   "cell_type": "markdown",
   "id": "6def856f",
   "metadata": {},
   "source": [
    "# TODO: добавить описание методов\n",
    "# TODO: сжать итоговое видео\n",
    "# TODO: "
   ]
  }
 ],
 "metadata": {
  "kernelspec": {
   "display_name": "uniform_venv",
   "language": "python",
   "name": "uniform_venv"
  },
  "language_info": {
   "codemirror_mode": {
    "name": "ipython",
    "version": 3
   },
   "file_extension": ".py",
   "mimetype": "text/x-python",
   "name": "python",
   "nbconvert_exporter": "python",
   "pygments_lexer": "ipython3",
   "version": "3.9.2"
  }
 },
 "nbformat": 4,
 "nbformat_minor": 5
}
